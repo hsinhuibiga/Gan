{
 "cells": [
  {
   "cell_type": "code",
   "execution_count": null,
   "metadata": {},
   "outputs": [],
   "source": [
    "from keras.datasets import mnist\n",
    "import numpy as np\n",
    "%matplotlib inline\n",
    "# 我們會使用到一些內建的資料庫, MAC需要加入以下兩行, 才不會把對方的ssl憑證視為無效\n",
    "import ssl\n",
    "ssl._create_default_https_context = ssl._create_unverified_context"
   ]
  },
  {
   "cell_type": "code",
   "execution_count": null,
   "metadata": {},
   "outputs": [],
   "source": [
    "# 回傳值: ((訓練特徵, 訓練目標), (測試特徵, 測試目標))\n",
    "(x_train, y_train),(x_test, y_test) = mnist.load_data()\n"
   ]
  },
  {
   "cell_type": "code",
   "execution_count": null,
   "metadata": {},
   "outputs": [],
   "source": [
    "x_train.shape\n"
   ]
  },
  {
   "cell_type": "code",
   "execution_count": null,
   "metadata": {},
   "outputs": [],
   "source": [
    "from keras.utils import np_utils\n",
    "# reshape讓他從 32 * 32變成 784 * 1的一維陣列\n",
    "# 讓我們標準化到-1~1區間\n",
    "x_train_shaped = (x_train - 127.5)/127.5\n",
    "x_test_shaped = (x_test - 127.5)/127.5"
   ]
  },
  {
   "cell_type": "code",
   "execution_count": null,
   "metadata": {},
   "outputs": [],
   "source": [
    "print('原本的y_train shape:', y_train.shape)\n",
    "y_train"
   ]
  },
  {
   "cell_type": "code",
   "execution_count": null,
   "metadata": {},
   "outputs": [],
   "source": [
    "# 這裡reshape比較特別的參數是-1\n",
    "# nparray的reshape容許你填入一個-1\n",
    "# -1是指會自動幫你算出-1該等於多少\n",
    "# ex (2, 3) reshape (-1, 1) 相當於reshape成(6, 1)\n",
    "y_train = y_train.reshape(-1, 1)\n",
    "print('後來的y_train shape:', y_train.shape)\n",
    "y_train"
   ]
  },
  {
   "cell_type": "code",
   "execution_count": null,
   "metadata": {},
   "outputs": [],
   "source": [
    "img_shape = (28, 28)\n",
    "random_dim = 100"
   ]
  },
  {
   "cell_type": "code",
   "execution_count": null,
   "metadata": {},
   "outputs": [],
   "source": [
    "from keras.layers import Input\n",
    "from keras.models import Model, Sequential\n",
    "from keras.layers.core import Reshape, Dense, Dropout, Flatten\n",
    "from keras.layers import Embedding, multiply, BatchNormalization\n",
    "\n",
    "# 這裡跟我們GAN的創作家一模一樣\n",
    "generator = Sequential()\n",
    "generator.add(Dense(256, input_dim=random_dim, activation='relu'))\n",
    "generator.add(BatchNormalization())\n",
    "generator.add(Dense(512, activation='relu'))\n",
    "generator.add(BatchNormalization())\n",
    "generator.add(Dense(784, activation='tanh'))\n",
    "generator.add(Reshape(img_shape))\n",
    "generator.summary()"
   ]
  },
  {
   "cell_type": "code",
   "execution_count": null,
   "metadata": {},
   "outputs": [],
   "source": [
    "# 這裡必需使用Model來做比較複雜的模型\n",
    "noise = Input(shape=(random_dim,))\n",
    "# 我們的標籤輸入 輸入只有一個維度 (1, )的,是為了讓小括號被當成tuple\n",
    "# 否則會被當成普通的()\n",
    "label = Input(shape=(1,), dtype='int32')\n",
    "# 使用Embedding得到100向量\n",
    "# input_dim = 10 -> 0~9\n",
    "# output_dim = 100 -> 100維度的向量\n",
    "# 接著使用Flatten把(1, 100)轉化成為(100)\n",
    "label_embedding = Flatten()(Embedding(input_dim = 10, output_dim = random_dim)(label))\n",
    "# 把靈感和標籤乘起來\n",
    "model_input = multiply([noise, label_embedding])\n",
    "# 經過我們上面的Generator做出圖片\n",
    "img = generator(model_input)\n",
    "# 完整的generator\n",
    "# inputs = [noise, label] -> [靈感, 標籤]\n",
    "# outputs = img -> 創作圖片\n",
    "cgenerator = Model([noise, label], img)\n",
    "cgenerator.summary()"
   ]
  },
  {
   "cell_type": "code",
   "execution_count": null,
   "metadata": {},
   "outputs": [],
   "source": [
    "discriminator = Sequential()\n",
    "discriminator.add(Dense(512, input_dim=784,\n",
    "                        activation='relu'))\n",
    "discriminator.add(Dropout(0.25))\n",
    "discriminator.add(Dense(256, activation='relu'))\n",
    "discriminator.add(Dropout(0.25))\n",
    "discriminator.add(Dense(128, activation='relu'))\n",
    "discriminator.add(Dropout(0.25))\n",
    "discriminator.add(Dense(1, activation='sigmoid'))\n",
    "discriminator.summary()"
   ]
  },
  {
   "cell_type": "code",
   "execution_count": null,
   "metadata": {},
   "outputs": [],
   "source": [
    "img = Input(shape=img_shape)\n",
    "# 得到標籤的 784 維度表示\n",
    "label = Input(shape=(1,), dtype='int32')\n",
    "label_embedding = Flatten()(Embedding(input_dim=10, output_dim=784)(label))\n",
    "flat_img = Flatten()(img)\n",
    "model_input = multiply([flat_img, label_embedding])\n",
    "validity = discriminator(model_input)\n",
    "cdiscriminator = Model([img, label], validity)\n",
    "cdiscriminator.compile(loss='binary_crossentropy', optimizer=\"adam\")\n",
    "cdiscriminator.summary()"
   ]
  },
  {
   "cell_type": "code",
   "execution_count": null,
   "metadata": {},
   "outputs": [],
   "source": [
    "# 記得在組合網路的時候必須讓鑑賞家保持不動!\n",
    "cdiscriminator.trainable = False\n",
    "cgan_input = Input(shape=(random_dim,))\n",
    "cgan_label = Input(shape=(1, ))\n",
    "x = cgenerator([cgan_input, cgan_label])\n",
    "cgan_output = cdiscriminator([x, cgan_label])\n",
    "cgan = Model(inputs=[cgan_input, cgan_label], outputs=cgan_output)\n",
    "cgan.compile(loss='binary_crossentropy', optimizer=\"adam\")\n",
    "cgan.summary()"
   ]
  },
  {
   "cell_type": "code",
   "execution_count": null,
   "metadata": {},
   "outputs": [],
   "source": [
    "batch_size = 200\n",
    "epoch_count = 100\n",
    "\n",
    "for epoch in range(0, epoch_count):\n",
    "    for batch_count in range(0, 300):\n",
    "        idx = np.random.randint(0, x_train.shape[0], batch_size)\n",
    "        imgs = x_train_shaped[idx]\n",
    "        # 不一樣的點在這裡!我們有把訓練資料的標籤拿出來\n",
    "        labels = y_train[idx]\n",
    "        \n",
    "        valid = np.ones((batch_size, 1))\n",
    "        fake = np.zeros((batch_size, 1))\n",
    "        # 步驟0:讓創作家製造出fake image\n",
    "        noise = np.random.normal(0, 1, (batch_size, random_dim))\n",
    "        # 跟普通GAN不一樣, 帶入了標籤部分\n",
    "        gen_imgs = cgenerator.predict([noise, labels])\n",
    "\n",
    "        # 步驟1:讓鑑賞家鑑賞對的image\n",
    "        d_loss_real = cdiscriminator.train_on_batch([imgs, labels], valid)\n",
    "        # 步驟2:讓鑑賞家鑑賞錯的image\n",
    "        d_loss_fake = cdiscriminator.train_on_batch([gen_imgs, labels], fake)\n",
    "        d_loss = (d_loss_real + d_loss_fake) / 2\n",
    "\n",
    "        noise = np.random.normal(0, 1, (batch_size, random_dim))\n",
    "        # 步驟3:訓練創作家的創作能力\n",
    "        g_loss = cgan.train_on_batch([noise, labels], valid)\n",
    "\n",
    "    if (epoch + 1) % 10 == 0:\n",
    "        dash = \"-\" * 15\n",
    "        print(dash, \"epoch\", epoch + 1, dash)\n",
    "        print(\"Discriminator loss:\", d_loss)\n",
    "        print(\"Generator loss:\", g_loss)"
   ]
  },
  {
   "cell_type": "code",
   "execution_count": null,
   "metadata": {},
   "outputs": [],
   "source": [
    "import matplotlib.pyplot as plt\n",
    "%matplotlib inline\n",
    "noise = np.random.normal(0, 1, (10, random_dim))\n",
    "sampled_labels = np.arange(0, 10).reshape(-1, 1)\n",
    "\n",
    "gen_imgs = cgenerator.predict([noise, sampled_labels])\n",
    "\n",
    "# Rescale images 0 - 1\n",
    "gen_imgs = 0.5 * gen_imgs + 0.5\n",
    "gen_imgs = gen_imgs.reshape(10, 28, 28)\n",
    "plt.figure(figsize = (14, 14))\n",
    "# range(0, 10)產生出十種不同label(0 - 9) 針對性的產生我們要的數字\n",
    "for i in range(0, 10):\n",
    "    plt.subplot(1, 10, i + 1)\n",
    "    plt.axis(\"off\")\n",
    "    plt.imshow(gen_imgs[i], cmap='gray')"
   ]
  }
 ],
 "metadata": {
  "kernelspec": {
   "display_name": "Python 3",
   "language": "python",
   "name": "python3"
  },
  "language_info": {
   "codemirror_mode": {
    "name": "ipython",
    "version": 3
   },
   "file_extension": ".py",
   "mimetype": "text/x-python",
   "name": "python",
   "nbconvert_exporter": "python",
   "pygments_lexer": "ipython3",
   "version": "3.6.7"
  }
 },
 "nbformat": 4,
 "nbformat_minor": 2
}
