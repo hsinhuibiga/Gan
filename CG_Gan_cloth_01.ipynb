{
 "cells": [
  {
   "cell_type": "code",
   "execution_count": null,
   "metadata": {},
   "outputs": [],
   "source": [
    "import numpy as np\n",
    "%matplotlib inline\n",
    "# 我們會使用到一些內建的資料庫, MAC需要加入以下兩行, 才不會把對方的ssl憑證視為無效\n",
    "import ssl\n",
    "ssl._create_default_https_context = ssl._create_unverified_context"
   ]
  },
  {
   "cell_type": "code",
   "execution_count": null,
   "metadata": {},
   "outputs": [],
   "source": [
    "from keras.datasets import fashion_mnist\n",
    "# 回傳值: ((訓練特徵, 訓練目標), (測試特徵, 測試目標))\n",
    "(x_train, y_train),(x_test, y_test) = fashion_mnist.load_data()\n",
    "\n"
   ]
  },
  {
   "cell_type": "code",
   "execution_count": null,
   "metadata": {},
   "outputs": [],
   "source": [
    "x_train.shape"
   ]
  },
  {
   "cell_type": "code",
   "execution_count": null,
   "metadata": {},
   "outputs": [],
   "source": [
    "labels = ['t-shirt', 'trouser', \n",
    "          'pullover', 'dress', \n",
    "          'coat', 'sandal', \n",
    "          'shirt', 'sneaker', \n",
    "          'bag', 'ankle boots']"
   ]
  },
  {
   "cell_type": "code",
   "execution_count": null,
   "metadata": {},
   "outputs": [],
   "source": [
    "import matplotlib.pyplot as plt\n",
    "%matplotlib inline\n",
    "import random\n",
    "samples = {}\n",
    "for (idx, label) in enumerate(y_train):\n",
    "    if not label in samples:\n",
    "        samples[label] = x_train[idx]\n",
    "    if len(samples) == 10:\n",
    "        break \n",
    "for key in sorted(samples):\n",
    "    plt.subplot(2, 5, key + 1)\n",
    "    plt.title(labels[key])\n",
    "    plt.axis('off')\n",
    "    plt.imshow(samples[key], cmap='gray')"
   ]
  },
  {
   "cell_type": "code",
   "execution_count": null,
   "metadata": {},
   "outputs": [],
   "source": [
    "from keras.utils import np_utils\n",
    "# reshape讓他從 32 * 32變成 784 * 1的一維陣列\n",
    "# 讓我們標準化到-1~1區間\n",
    "x_train_shaped = (x_train - 127.5)/127.5\n",
    "x_test_shaped = (x_test - 127.5)/127.5\n",
    "# 不一樣!!要記得把標籤拿出來\n",
    "y_train = y_train.reshape(-1, 1)"
   ]
  },
  {
   "cell_type": "code",
   "execution_count": null,
   "metadata": {},
   "outputs": [],
   "source": [
    "img_shape = (28, 28)\n",
    "random_dim = 100"
   ]
  },
  {
   "cell_type": "code",
   "execution_count": null,
   "metadata": {},
   "outputs": [],
   "source": [
    "from keras.layers import Input\n",
    "from keras.models import Model, Sequential\n",
    "from keras.layers.core import Reshape, Dense, Dropout, Flatten\n",
    "from keras.layers import Embedding, multiply, BatchNormalization\n",
    "\n",
    "generator = Sequential()\n",
    "generator.add(Dense(256, input_dim=random_dim, \n",
    "                    activation='relu'))\n",
    "generator.add(BatchNormalization())\n",
    "generator.add(Dense(512, activation='relu'))\n",
    "generator.add(BatchNormalization())\n",
    "generator.add(Dense(784, activation='tanh'))\n",
    "generator.add(Reshape(img_shape))\n",
    "generator.summary()"
   ]
  },
  {
   "cell_type": "code",
   "execution_count": null,
   "metadata": {},
   "outputs": [],
   "source": [
    "noise = Input(shape=(random_dim,))\n",
    "label = Input(shape=(1,), dtype='int32')\n",
    "label_embedding = Flatten()(Embedding(input_dim = 10, output_dim = random_dim)(label))\n",
    "\n",
    "model_input = multiply([noise, label_embedding])\n",
    "img = generator(model_input)\n",
    "\n",
    "cgenerator = Model([noise, label], img)\n",
    "\n",
    "cgenerator.compile(loss='binary_crossentropy', optimizer=\"adam\")\n",
    "cgenerator.summary()\n"
   ]
  },
  {
   "cell_type": "code",
   "execution_count": null,
   "metadata": {},
   "outputs": [],
   "source": [
    "discriminator = Sequential()\n",
    "discriminator.add(Dense(512, input_dim=784,\n",
    "                        activation='relu'))\n",
    "discriminator.add(Dropout(0.25))\n",
    "discriminator.add(Dense(256, activation='relu'))\n",
    "discriminator.add(Dropout(0.25))\n",
    "discriminator.add(Dense(128, activation='relu'))\n",
    "discriminator.add(Dropout(0.25))\n",
    "discriminator.add(Dense(1, activation='sigmoid'))\n",
    "discriminator.summary()"
   ]
  },
  {
   "cell_type": "code",
   "execution_count": null,
   "metadata": {},
   "outputs": [],
   "source": [
    "img = Input(shape=img_shape)\n",
    "label = Input(shape=(1,), dtype='int32')\n",
    "label_embedding = Flatten()(Embedding(10, 784)(label))\n",
    "flat_img = Flatten()(img)\n",
    "model_input = multiply([flat_img, label_embedding])\n",
    "validity = discriminator(model_input)\n",
    "cdiscriminator = Model([img, label], validity)\n",
    "cdiscriminator.summary()"
   ]
  },
  {
   "cell_type": "code",
   "execution_count": null,
   "metadata": {},
   "outputs": [],
   "source": [
    "cdiscriminator.trainable = False\n",
    "cgan_input = Input(shape=(random_dim,))\n",
    "cgan_label = Input(shape=(1, ))\n",
    "x = cgenerator([cgan_input, cgan_label])\n",
    "cgan_output = cdiscriminator([x, cgan_label])\n",
    "cgan = Model(inputs=[cgan_input, cgan_label], outputs=cgan_output)\n",
    "cgan.compile(loss='binary_crossentropy', optimizer=\"adam\")\n",
    "cgan.summary()\n"
   ]
  },
  {
   "cell_type": "code",
   "execution_count": null,
   "metadata": {},
   "outputs": [],
   "source": [
    "batch_size = 200\n",
    "epoch_count = 100\n",
    "\n",
    "for epoch in range(0, epoch_count):\n",
    "    for batch_count in range(0, 300):\n",
    "        idx = np.random.randint(0, x_train.shape[0], batch_size)\n",
    "        imgs = x_train_shaped[idx]\n",
    "        labels = y_train[idx]\n",
    "        \n",
    "        valid = np.ones((batch_size, 1))\n",
    "        fake = np.zeros((batch_size, 1))\n",
    "        # 步驟0:讓創作家製造出fake image\n",
    "        noise = np.random.normal(0, 1, (batch_size, random_dim))\n",
    "        gen_imgs = cgenerator.predict([noise, labels])\n",
    "\n",
    "        # 步驟1:讓鑑賞家鑑賞對的image\n",
    "        d_loss_real = cdiscriminator.train_on_batch([imgs, labels], valid)\n",
    "        # 步驟2:讓鑑賞家鑑賞錯的image\n",
    "        d_loss_fake = cdiscriminator.train_on_batch([gen_imgs, labels], fake)\n",
    "        d_loss = (d_loss_real + d_loss_fake) / 2\n",
    "\n",
    "        noise = np.random.normal(0, 1, (batch_size, random_dim))\n",
    "        # 步驟3:訓練創作家的創作能力\n",
    "        g_loss = cgan.train_on_batch([noise, labels], valid)\n",
    "\n",
    "    if (epoch + 1) % 10 == 0:\n",
    "        dash = \"-\" * 15\n",
    "        print(dash, \"epoch\", epoch + 1, dash)\n",
    "        print(\"Discriminator loss:\", d_loss)\n",
    "        print(\"Generator loss:\", g_loss)"
   ]
  },
  {
   "cell_type": "code",
   "execution_count": null,
   "metadata": {},
   "outputs": [],
   "source": [
    "import matplotlib.pyplot as plt\n",
    "%matplotlib inline\n",
    "noise = np.random.normal(0, 1, (10, random_dim))\n",
    "sampled_labels = np.arange(0, 10).reshape(-1, 1)\n",
    "\n",
    "gen_imgs = cgenerator.predict([noise, sampled_labels])\n",
    "\n",
    "# Rescale images 0 - 1\n",
    "gen_imgs = 0.5 * gen_imgs + 0.5\n",
    "gen_imgs = gen_imgs.reshape(10, 28, 28)\n",
    "plt.figure(figsize = (14, 4))\n",
    "\n",
    "labels = ['t-shirt', 'trouser', \n",
    "          'pullover', 'dress', \n",
    "          'coat', 'sandal', \n",
    "          'shirt', 'sneaker', \n",
    "          'bag', 'ankle boots']\n",
    "\n",
    "for i in range(0, 10):\n",
    "    plt.subplot(1, 10, i + 1)\n",
    "    plt.axis(\"off\")\n",
    "    plt.title(labels[i])\n",
    "    plt.imshow(gen_imgs[i], cmap='gray')"
   ]
  }
 ],
 "metadata": {
  "kernelspec": {
   "display_name": "Python 3",
   "language": "python",
   "name": "python3"
  },
  "language_info": {
   "codemirror_mode": {
    "name": "ipython",
    "version": 3
   },
   "file_extension": ".py",
   "mimetype": "text/x-python",
   "name": "python",
   "nbconvert_exporter": "python",
   "pygments_lexer": "ipython3",
   "version": "3.6.7"
  }
 },
 "nbformat": 4,
 "nbformat_minor": 2
}
