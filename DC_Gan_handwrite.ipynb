{
 "cells": [
  {
   "cell_type": "code",
   "execution_count": null,
   "metadata": {},
   "outputs": [],
   "source": [
    "# 我們會使用到一些內建的資料庫, MAC需要加入以下兩行, 才不會把對方的ssl憑證視為無效\n",
    "import ssl\n",
    "ssl._create_default_https_context = ssl._create_unverified_context\n"
   ]
  },
  {
   "cell_type": "code",
   "execution_count": null,
   "metadata": {},
   "outputs": [],
   "source": [
    "from keras.datasets import mnist\n",
    "# 回傳值: ((訓練特徵, 訓練目標), (測試特徵, 測試目標))\n",
    "(x_train, y_train),(x_test, y_test) = mnist.load_data()\n"
   ]
  },
  {
   "cell_type": "code",
   "execution_count": null,
   "metadata": {},
   "outputs": [],
   "source": [
    "x_train.shape"
   ]
  },
  {
   "cell_type": "code",
   "execution_count": null,
   "metadata": {},
   "outputs": [],
   "source": [
    "from keras.layers import Input\n",
    "from keras.models import Model, Sequential\n",
    "from keras.layers.core import Reshape, Dense, Dropout, Flatten\n",
    "from keras.layers import BatchNormalization, UpSampling2D, Conv2D\n",
    "random_dim = 100\n",
    "generator = Sequential()\n",
    "# 先讓100隨機亂數可以變成 7 * 7 * 128\n",
    "# 為何是 7 * 7呢?\n",
    "# 因為 7 *7 -> (第一次轉置) 14 * 14 -> (第二次轉置) 28 * 28\n",
    "# 128則是使用類似VGG的概念, 選擇128開始\n",
    "generator.add(Dense(7 * 7 * 128, input_dim=random_dim, activation='relu'))\n",
    "# 轉換成三維\n",
    "generator.add(Reshape((7, 7, 128)))\n",
    "# 上採樣, 長寬變兩倍\n",
    "generator.add(UpSampling2D(size=(2, 2)))\n",
    "# (4, 4)卷積窗的卷積, 之所以做(4, 4)是為了跟discriminator配合, 我們等discriminator再談\n",
    "generator.add(Conv2D(128, kernel_size=(4, 4), activation='relu', padding='same'))\n",
    "# 卷積層間我喜歡使用BN來normalize\n",
    "generator.add(BatchNormalization())\n",
    "generator.add(UpSampling2D(size=(2, 2)))\n",
    "generator.add(Conv2D(64, kernel_size=(4, 4), activation='relu', padding='same'))\n",
    "generator.add(BatchNormalization())\n",
    "# 最後讓filter數目回到1, 因為是灰階圖片, 最後輸出 28 * 28 * 1圖片\n",
    "# 一樣使用tanh(-1 - 1)作為激活\n",
    "generator.add(Conv2D(1, kernel_size=(4, 4), activation='tanh', padding='same'))\n",
    "generator.summary()"
   ]
  },
  {
   "cell_type": "code",
   "execution_count": null,
   "metadata": {},
   "outputs": [],
   "source": [
    "from keras.layers import Input\n",
    "from keras.models import Model, Sequential\n",
    "from keras.layers.core import Reshape, Dense, Dropout, Flatten\n",
    "from keras.layers import BatchNormalization, UpSampling2D, Conv2D\n",
    "random_dim = 100\n",
    "generator = Sequential()\n",
    "# 先讓100隨機亂數可以變成 7 * 7 * 128\n",
    "# 為何是 7 * 7呢?\n",
    "# 因為 7 *7 -> (第一次轉置) 14 * 14 -> (第二次轉置) 28 * 28\n",
    "# 128則是使用類似VGG的概念, 選擇128開始\n",
    "generator.add(Dense(7 * 7 * 128, input_dim=random_dim, activation='relu'))\n",
    "# 轉換成三維\n",
    "generator.add(Reshape((7, 7, 128)))\n",
    "# 上採樣, 長寬變兩倍\n",
    "generator.add(UpSampling2D(size=(2, 2)))\n",
    "# (4, 4)卷積窗的卷積, 之所以做(4, 4)是為了跟discriminator配合, 我們等discriminator再談\n",
    "generator.add(Conv2D(128, kernel_size=(4, 4), activation='relu', padding='same'))\n",
    "# 卷積層間我喜歡使用BN來normalize\n",
    "generator.add(BatchNormalization())\n",
    "generator.add(UpSampling2D(size=(2, 2)))\n",
    "generator.add(Conv2D(64, kernel_size=(4, 4), activation='relu', padding='same'))\n",
    "generator.add(BatchNormalization())\n",
    "# 最後讓filter數目回到1, 因為是灰階圖片, 最後輸出 28 * 28 * 1圖片\n",
    "# 一樣使用tanh(-1 - 1)作為激活\n",
    "generator.add(Conv2D(1, kernel_size=(4, 4), activation='tanh', padding='same'))\n",
    "generator.summary()"
   ]
  },
  {
   "cell_type": "code",
   "execution_count": null,
   "metadata": {},
   "outputs": [],
   "source": [
    "from keras.layers import Input\n",
    "discriminator.trainable = False\n",
    "gan_input = Input(shape=(random_dim,))\n",
    "x = generator(gan_input)\n",
    "gan_output = discriminator(x)\n",
    "gan = Model(inputs=gan_input, outputs=gan_output)\n",
    "gan.compile(loss='binary_crossentropy', optimizer=\"adam\")\n",
    "gan.summary()"
   ]
  },
  {
   "cell_type": "code",
   "execution_count": null,
   "metadata": {},
   "outputs": [],
   "source": [
    "from keras.layers import Input\n",
    "discriminator.trainable = False\n",
    "gan_input = Input(shape=(random_dim,))\n",
    "x = generator(gan_input)\n",
    "gan_output = discriminator(x)\n",
    "gan = Model(inputs=gan_input, outputs=gan_output)\n",
    "gan.compile(loss='binary_crossentropy', optimizer=\"adam\")\n",
    "gan.summary()"
   ]
  },
  {
   "cell_type": "code",
   "execution_count": null,
   "metadata": {},
   "outputs": [],
   "source": [
    "batch_size = 200\n",
    "epoch_count = 10\n",
    "for epoch in range(0, epoch_count):\n",
    "    for batch_count in range(0, 300):\n",
    "        idx = np.random.randint(0, x_train.shape[0], batch_size)\n",
    "        imgs = x_train_shaped[idx]\n",
    "\n",
    "        valid = np.ones((batch_size, 1))\n",
    "        fake = np.zeros((batch_size, 1))\n",
    "        # 步驟0:讓創作家製造出fake image\n",
    "        noise = np.random.normal(0, 1, (batch_size, random_dim))\n",
    "        gen_imgs = generator.predict(noise)\n",
    "\n",
    "        discriminator.trainable = True\n",
    "        # 步驟1:讓鑑賞家鑑賞對的image\n",
    "        d_loss_real = discriminator.train_on_batch(imgs, valid)\n",
    "        # 步驟2:讓鑑賞家鑑賞錯的image\n",
    "        d_loss_fake = discriminator.train_on_batch(gen_imgs, fake)\n",
    "        d_loss = (d_loss_real + d_loss_fake) / 2\n",
    "\n",
    "        discriminator.trainable = False\n",
    "        noise = np.random.normal(0, 1, (batch_size, random_dim))\n",
    "        # 步驟3:訓練創作家的創作能力\n",
    "        g_loss = gan.train_on_batch(noise, valid)\n",
    "    if (epoch + 1) % 10 == 0:\n",
    "        dash = \"-\" * 15\n",
    "        print(dash, \"epoch\", epoch + 1, dash)\n",
    "        print(\"Discriminator loss:\", d_loss)\n",
    "        print(\"Generator loss:\", g_loss)"
   ]
  },
  {
   "cell_type": "code",
   "execution_count": null,
   "metadata": {},
   "outputs": [],
   "source": [
    "import matplotlib.pyplot as plt\n",
    "import numpy as np\n",
    "%matplotlib inline\n",
    "examples = 100\n",
    "noise = np.random.normal(0, 1, (examples, random_dim))\n",
    "gen_imgs = generator.predict(noise)\n",
    "\n",
    "# Rescale images 0 - 1\n",
    "gen_imgs = 0.5 * gen_imgs + 0.5\n",
    "gen_imgs = gen_imgs.reshape(examples, 28, 28)\n",
    "plt.figure(figsize = (14, 14))\n",
    "\n",
    "w = 10\n",
    "h = int(examples / w) + 1\n",
    "for i in range(0, examples):\n",
    "    plt.subplot(h, w, i + 1)\n",
    "    plt.axis('off')\n",
    "    plt.imshow(gen_imgs[i], cmap='gray')"
   ]
  }
 ],
 "metadata": {
  "kernelspec": {
   "display_name": "Python 3",
   "language": "python",
   "name": "python3"
  },
  "language_info": {
   "codemirror_mode": {
    "name": "ipython",
    "version": 3
   },
   "file_extension": ".py",
   "mimetype": "text/x-python",
   "name": "python",
   "nbconvert_exporter": "python",
   "pygments_lexer": "ipython3",
   "version": "3.6.7"
  }
 },
 "nbformat": 4,
 "nbformat_minor": 2
}
