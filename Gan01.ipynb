{
 "cells": [
  {
   "cell_type": "code",
   "execution_count": null,
   "metadata": {},
   "outputs": [],
   "source": [
    "# 我們會從https下載資料庫, MAC電腦需要加入以下兩行, 才不會把對方的ssl憑證視為無效\n",
    "import ssl\n",
    "ssl._create_default_https_context = ssl._create_unverified_context\n"
   ]
  },
  {
   "cell_type": "code",
   "execution_count": null,
   "metadata": {},
   "outputs": [],
   "source": [
    "from keras.datasets import mnist\n",
    "# 回傳值: ((訓練特徵, 訓練目標), (測試特徵, 測試目標))\n",
    "(x_train, y_train),(x_test, y_test) = mnist.load_data()\n"
   ]
  },
  {
   "cell_type": "code",
   "execution_count": null,
   "metadata": {},
   "outputs": [],
   "source": [
    "x_train.shape"
   ]
  },
  {
   "cell_type": "code",
   "execution_count": null,
   "metadata": {},
   "outputs": [],
   "source": [
    "from keras.utils import np_utils\n",
    "# reshape讓他從 32 * 32變成 784 * 1的一維陣列\n",
    "# 讓我們標準化到-1~1區間\n",
    "# 要不要轉化成為float32都可以\n",
    "x_train_shaped = (x_train.reshape(60000, 784).astype(\"float32\") - 127.5)/127.5\n",
    "x_test_shaped = (x_test.reshape(10000, 784).astype(\"float32\") - 127.5)/127.5\n"
   ]
  },
  {
   "cell_type": "code",
   "execution_count": null,
   "metadata": {},
   "outputs": [],
   "source": [
    "from keras.models import Sequential\n",
    "from keras.layers import Dense, BatchNormalization\n",
    "\n",
    "# Generator: 反向MLP\n",
    "# 隨機輸入的位置個數\n",
    "random_dim = 100\n",
    "# 這裡我採用每一層是上一層的兩倍神經元(類似VGG)的概念\n",
    "# 並不是一定, 讀者可以根據自己的喜好調整\n",
    "generator = Sequential()\n",
    "generator.add(Dense(256, input_dim=random_dim, \n",
    "                    activation='relu'))\n",
    "# 加上BN, 讓每一層輸入都標準化過\n",
    "generator.add(BatchNormalization())\n",
    "generator.add(Dense(512, activation='relu'))\n",
    "generator.add(BatchNormalization())\n",
    "generator.add(Dense(784, activation='tanh'))\n",
    "# 我們從不單獨訓練generator, 只會接起來訓練, 所以不compile\n",
    "generator.summary()"
   ]
  },
  {
   "cell_type": "code",
   "execution_count": null,
   "metadata": {},
   "outputs": [],
   "source": [
    "from keras.layers import Dropout\n",
    "\n",
    "discriminator = Sequential()\n",
    "discriminator.add(Dense(1024, input_dim=784, \n",
    "                        activation='relu'))\n",
    "# 加上Dropout防止過擬和\n",
    "discriminator.add(Dropout(0.25))\n",
    "discriminator.add(Dense(512, activation='relu'))\n",
    "discriminator.add(Dropout(0.25))\n",
    "discriminator.add(Dense(256, activation='relu'))\n",
    "discriminator.add(Dropout(0.25))\n",
    "# 最後只輸出一個神經元, 意味著是真的機率, 所以採用sigmoid函數\n",
    "# 1: 100%為真 \n",
    "# 0:   0%為真(偽)\n",
    "discriminator.add(Dense(1, activation='sigmoid'))\n",
    "# 在我們的兩個步驟的第一步, 會訓練discrinminator, 所以需要compile\n",
    "discriminator.compile(loss='binary_crossentropy', optimizer=\"adam\")\n",
    "discriminator.summary()"
   ]
  },
  {
   "cell_type": "code",
   "execution_count": null,
   "metadata": {},
   "outputs": [],
   "source": [
    "from keras.models import Model\n",
    "from keras.layers import Input\n",
    "# 先將discriminator固定住\n",
    "discriminator.trainable = False\n",
    "# 這裡我們要組合模型必須使用Model來創建\n",
    "# 先準備Input Layer\n",
    "gan_input = Input(shape=(random_dim,))\n",
    "# 經過創作家\n",
    "x = generator(gan_input)\n",
    "# 再將輸出當成鑑賞家的輸入\n",
    "gan_output = discriminator(x)\n",
    "# 創建最後的模型, 輸入和輸出依照上面的圖設定好\n",
    "gan = Model(inputs=gan_input, outputs=gan_output)\n",
    "gan.compile(loss='binary_crossentropy', optimizer=\"adam\")\n",
    "gan.summary()"
   ]
  },
  {
   "cell_type": "code",
   "execution_count": null,
   "metadata": {},
   "outputs": [],
   "source": [
    "import numpy as np\n",
    "# batch: 200個圖片做一次梯度更新\n",
    "batch_size = 200\n",
    "# epoch: 總共看過 100次資料集\n",
    "epoch_count = 100\n",
    "# range會幫我們產生 0~99 的數字\n",
    "for epoch in range(0, epoch_count):\n",
    "    for batch_count in range(0, 300):\n",
    "        # 隨機出200個0-59999(x_train.shape[0] - 1)的整數\n",
    "        # 這裡要注意一下np.random.randint的第二個數字是不包括的\n",
    "        idx = np.random.randint(0, x_train.shape[0], batch_size)\n",
    "        # 拿出對應的圖片\n",
    "        imgs = x_train_shaped[idx]\n",
    "        # 準備好200個1\n",
    "        valid = np.ones((batch_size, 1))\n",
    "        # 準備好200個0\n",
    "        fake = np.zeros((batch_size, 1))\n",
    "        # 步驟0: 隨機靈感(利用常態分布來產生)\n",
    "        noise = np.random.normal(0, 1, (batch_size, random_dim))\n",
    "        gen_imgs = generator.predict(noise)\n",
    "\n",
    "        # 步驟1-1:讓鑑賞家鑑賞對的image\n",
    "        d_loss_real = discriminator.train_on_batch(imgs, valid)\n",
    "        # 步驟1-2:讓鑑賞家鑑賞錯的image\n",
    "        d_loss_fake = discriminator.train_on_batch(gen_imgs, fake)\n",
    "        # loss為上方兩個小步驟平均\n",
    "        d_loss = (d_loss_real + d_loss_fake) / 2\n",
    "\n",
    "        # 重新準備一次靈感\n",
    "        noise = np.random.normal(0, 1, (batch_size, random_dim))\n",
    "        # 步驟2:訓練創作家的創作能力\n",
    "        # 因為創作者希望他的作品能被discriminator視為真, 所以傳遞valid進去\n",
    "        # 讓generator的weight可以往對的方向調整\n",
    "        g_loss = gan.train_on_batch(noise, valid)\n",
    "    # 因為100epoch印製起來太多, 所以我十個印一次\n",
    "    if (epoch + 1) % 10 == 0:\n",
    "        dash = \"-\" * 15\n",
    "        print(dash, \"epoch\", epoch + 1, dash)\n",
    "        print(\"Discriminator loss:\", d_loss)\n",
    "        print(\"Generator loss:\", g_loss)"
   ]
  },
  {
   "cell_type": "code",
   "execution_count": null,
   "metadata": {},
   "outputs": [],
   "source": [
    "import matplotlib.pyplot as plt\n",
    "%matplotlib inline\n",
    "# 拿出5個examples\n",
    "examples = 5\n",
    "# 準備五個靈感\n",
    "noise = np.random.normal(0, 1, (examples, random_dim))\n",
    "# 使用創作者開始創作\n",
    "gen_imgs = generator.predict(noise)\n",
    "\n",
    "# 這裡要注意一下, 必須讓-1-1回到0-1才能被正確印出來\n",
    "gen_imgs = 0.5 * gen_imgs + 0.5\n",
    "# reshape成為圖片\n",
    "gen_imgs = gen_imgs.reshape(examples, 28, 28)\n",
    "# 設定一下完整畫布大小\n",
    "plt.figure(figsize = (14, 14))\n",
    "for i in range(0, examples):\n",
    "    # 將大圖分成1 * 5五小圖, 編號分別為\n",
    "    # 1, 2, 3, 4, 5\n",
    "    # 所以i必須+1來得到相對應的小圖\n",
    "    plt.subplot(1, examples, i + 1)\n",
    "    # 不打印座標軸\n",
    "    plt.axis('off')\n",
    "    # 秀出圖片\n",
    "    plt.imshow(gen_imgs[i], cmap='gray')"
   ]
  },
  {
   "cell_type": "code",
   "execution_count": null,
   "metadata": {},
   "outputs": [],
   "source": [
    "# 如果你使用colab\n",
    "from google.colab import drive\n",
    "drive.mount('/gdrive')\n",
    "generator.save('/gdrive/My Drive/keras/gan/gan_gen.h5')\n",
    "discriminator.save('/gdrive/My Drive/keras/gan/gan_dis.h5')\n"
   ]
  }
 ],
 "metadata": {
  "kernelspec": {
   "display_name": "Python 3",
   "language": "python",
   "name": "python3"
  },
  "language_info": {
   "codemirror_mode": {
    "name": "ipython",
    "version": 3
   },
   "file_extension": ".py",
   "mimetype": "text/x-python",
   "name": "python",
   "nbconvert_exporter": "python",
   "pygments_lexer": "ipython3",
   "version": "3.6.7"
  }
 },
 "nbformat": 4,
 "nbformat_minor": 2
}
